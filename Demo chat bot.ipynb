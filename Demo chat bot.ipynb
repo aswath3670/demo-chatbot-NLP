{
 "cells": [
  {
   "cell_type": "code",
   "execution_count": 1,
   "id": "fd3fa1ba-289a-414e-ab88-165e211053b4",
   "metadata": {},
   "outputs": [],
   "source": [
    "data={'Greetings': {'query': ['hi', 'hello', 'hey', 'hey bro', 'hai', 'hello', 'how are you?', 'are you there?'],\n",
    "\n",
    "'response': ['Hello sir, I am here to help you.', 'Hello sir, welcome']},\n",
    "\n",
    "'purpose': {'query': ['How do you help?', 'How can you help?'],\n",
    "\n",
    "'response': ['I am bro, I am here to help you in queries about BMW']},\n",
    "\n",
    "'conclude': {'query': ['Bye', 'Thank you for your help', 'Thank you', 'see you', 'okay Thanks', 'okay', 'ok'],\n",
    "\n",
    "'response': ['For further enquiry please contact customer care executives at 2255']}\n",
    "             }"
   ]
  },
  {
   "cell_type": "code",
   "execution_count": 3,
   "id": "b71ac178-024d-429f-969c-77698a99a01c",
   "metadata": {},
   "outputs": [
    {
     "data": {
      "text/plain": [
       "{'Greetings': {'query': ['hi',\n",
       "   'hello',\n",
       "   'hey',\n",
       "   'hey bro',\n",
       "   'hai',\n",
       "   'hello',\n",
       "   'how are you?',\n",
       "   'are you there?'],\n",
       "  'response': ['Hello sir, I am here to help you.', 'Hello sir, welcome']},\n",
       " 'purpose': {'query': ['How do you help?', 'How can you help?'],\n",
       "  'response': ['I am bro, I am here to help you in queries about BMW']},\n",
       " 'conclude': {'query': ['Bye',\n",
       "   'Thank you for your help',\n",
       "   'Thank you',\n",
       "   'see you',\n",
       "   'okay Thanks',\n",
       "   'okay',\n",
       "   'ok'],\n",
       "  'response': ['For further enquiry please contact customer care executives at 2255']}}"
      ]
     },
     "execution_count": 3,
     "metadata": {},
     "output_type": "execute_result"
    }
   ],
   "source": [
    "data"
   ]
  },
  {
   "cell_type": "code",
   "execution_count": 5,
   "id": "adaaee98-4971-430a-9a16-96f412dd00a7",
   "metadata": {},
   "outputs": [],
   "source": [
    "import nltk\n",
    "from nltk.corpus import stopwords\n",
    "from nltk.stem import PorterStemmer\n",
    "import random"
   ]
  },
  {
   "cell_type": "code",
   "execution_count": 7,
   "id": "dd940127-24c7-4d1b-b76d-8d96865a4fb1",
   "metadata": {},
   "outputs": [],
   "source": [
    "ps=PorterStemmer()\n",
    "import re\n",
    "columns=[]\n",
    "corpus=[]"
   ]
  },
  {
   "cell_type": "code",
   "execution_count": 9,
   "id": "93bc5954-8fa2-404a-9c69-5f227b38a384",
   "metadata": {},
   "outputs": [
    {
     "name": "stdout",
     "output_type": "stream",
     "text": [
      "Greetings\n",
      "purpose\n",
      "conclude\n"
     ]
    }
   ],
   "source": [
    "for i in data:\n",
    "    print(i)"
   ]
  },
  {
   "cell_type": "code",
   "execution_count": 11,
   "id": "c415733a-0ee6-4c63-b7bb-4502e97b8424",
   "metadata": {},
   "outputs": [
    {
     "name": "stdout",
     "output_type": "stream",
     "text": [
      "hi\n",
      "hello\n",
      "hey\n",
      "hey bro\n",
      "hai\n",
      "hello\n",
      "how are you?\n",
      "are you there?\n",
      "How do you help?\n",
      "How can you help?\n",
      "Bye\n",
      "Thank you for your help\n",
      "Thank you\n",
      "see you\n",
      "okay Thanks\n",
      "okay\n",
      "ok\n"
     ]
    }
   ],
   "source": [
    "for events in data:\n",
    "    columns.append(events)\n",
    "    for querys in data[events]['query']:\n",
    "        print(querys)\n",
    "\n",
    "        querys=re.sub('[^a-zA-Z]',' ',querys)\n",
    "        querys=querys.lower()\n",
    "        token=querys.split()\n",
    "\n",
    "        token=list(set([ps.stem(token) for token in token if token not in stopwords.words('english')]))\n",
    "        token=' '.join(token)\n",
    "        corpus.append((token,events))"
   ]
  },
  {
   "cell_type": "code",
   "execution_count": 13,
   "id": "a2801bdb-0bf7-470f-b044-c7ff6ef8dfc3",
   "metadata": {},
   "outputs": [
    {
     "data": {
      "text/plain": [
       "['Greetings', 'purpose', 'conclude']"
      ]
     },
     "execution_count": 13,
     "metadata": {},
     "output_type": "execute_result"
    }
   ],
   "source": [
    "columns"
   ]
  },
  {
   "cell_type": "code",
   "execution_count": 17,
   "id": "0d8758ff-4f58-4aa6-b5c5-3e1b9a38aef9",
   "metadata": {},
   "outputs": [
    {
     "data": {
      "text/plain": [
       "[('hi', 'Greetings'),\n",
       " ('hello', 'Greetings'),\n",
       " ('hey', 'Greetings'),\n",
       " ('hey bro', 'Greetings'),\n",
       " ('hai', 'Greetings'),\n",
       " ('hello', 'Greetings'),\n",
       " ('', 'Greetings'),\n",
       " ('', 'Greetings'),\n",
       " ('help', 'purpose'),\n",
       " ('help', 'purpose'),\n",
       " ('bye', 'conclude'),\n",
       " ('thank help', 'conclude'),\n",
       " ('thank', 'conclude'),\n",
       " ('see', 'conclude'),\n",
       " ('okay thank', 'conclude'),\n",
       " ('okay', 'conclude'),\n",
       " ('ok', 'conclude')]"
      ]
     },
     "execution_count": 17,
     "metadata": {},
     "output_type": "execute_result"
    }
   ],
   "source": [
    "corpus"
   ]
  },
  {
   "cell_type": "code",
   "execution_count": 19,
   "id": "5597c53c-7f0f-484e-9992-123d060c8024",
   "metadata": {},
   "outputs": [],
   "source": [
    "x_data=[]\n",
    "y_data=[]\n",
    "for (patterns,eve) in corpus:\n",
    "    x_data.append(patterns)\n",
    "    y_data.append(columns.index(eve))\n",
    "    "
   ]
  },
  {
   "cell_type": "code",
   "execution_count": 21,
   "id": "49de0de3-ae24-4a53-9300-3ca8ef82b609",
   "metadata": {},
   "outputs": [
    {
     "data": {
      "text/plain": [
       "['hi',\n",
       " 'hello',\n",
       " 'hey',\n",
       " 'hey bro',\n",
       " 'hai',\n",
       " 'hello',\n",
       " '',\n",
       " '',\n",
       " 'help',\n",
       " 'help',\n",
       " 'bye',\n",
       " 'thank help',\n",
       " 'thank',\n",
       " 'see',\n",
       " 'okay thank',\n",
       " 'okay',\n",
       " 'ok']"
      ]
     },
     "execution_count": 21,
     "metadata": {},
     "output_type": "execute_result"
    }
   ],
   "source": [
    "x_data"
   ]
  },
  {
   "cell_type": "code",
   "execution_count": 23,
   "id": "e6174d2f-f17e-44bc-a093-8d9202879668",
   "metadata": {},
   "outputs": [
    {
     "data": {
      "text/plain": [
       "[0, 0, 0, 0, 0, 0, 0, 0, 1, 1, 2, 2, 2, 2, 2, 2, 2]"
      ]
     },
     "execution_count": 23,
     "metadata": {},
     "output_type": "execute_result"
    }
   ],
   "source": [
    "y_data"
   ]
  },
  {
   "cell_type": "code",
   "execution_count": 25,
   "id": "06719792-34c3-4b2a-9270-dc284bdaab39",
   "metadata": {},
   "outputs": [],
   "source": [
    "import numpy as np\n",
    "# import sklearn\n",
    "from sklearn.feature_extraction.text import TfidfVectorizer\n",
    "tf=TfidfVectorizer()\n",
    "x=tf.fit_transform(x_data).toarray()\n",
    "# y=np.array(y_data)"
   ]
  },
  {
   "cell_type": "code",
   "execution_count": 27,
   "id": "cc6b22e5-28e5-452a-be91-9087d1d8f95c",
   "metadata": {},
   "outputs": [
    {
     "data": {
      "text/plain": [
       "array([[0.        , 0.        , 0.        , 0.        , 0.        ,\n",
       "        0.        , 1.        , 0.        , 0.        , 0.        ,\n",
       "        0.        ],\n",
       "       [0.        , 0.        , 0.        , 1.        , 0.        ,\n",
       "        0.        , 0.        , 0.        , 0.        , 0.        ,\n",
       "        0.        ],\n",
       "       [0.        , 0.        , 0.        , 0.        , 0.        ,\n",
       "        1.        , 0.        , 0.        , 0.        , 0.        ,\n",
       "        0.        ],\n",
       "       [0.75325488, 0.        , 0.        , 0.        , 0.        ,\n",
       "        0.65772873, 0.        , 0.        , 0.        , 0.        ,\n",
       "        0.        ],\n",
       "       [0.        , 0.        , 1.        , 0.        , 0.        ,\n",
       "        0.        , 0.        , 0.        , 0.        , 0.        ,\n",
       "        0.        ],\n",
       "       [0.        , 0.        , 0.        , 1.        , 0.        ,\n",
       "        0.        , 0.        , 0.        , 0.        , 0.        ,\n",
       "        0.        ],\n",
       "       [0.        , 0.        , 0.        , 0.        , 0.        ,\n",
       "        0.        , 0.        , 0.        , 0.        , 0.        ,\n",
       "        0.        ],\n",
       "       [0.        , 0.        , 0.        , 0.        , 0.        ,\n",
       "        0.        , 0.        , 0.        , 0.        , 0.        ,\n",
       "        0.        ],\n",
       "       [0.        , 0.        , 0.        , 0.        , 1.        ,\n",
       "        0.        , 0.        , 0.        , 0.        , 0.        ,\n",
       "        0.        ],\n",
       "       [0.        , 0.        , 0.        , 0.        , 1.        ,\n",
       "        0.        , 0.        , 0.        , 0.        , 0.        ,\n",
       "        0.        ],\n",
       "       [0.        , 1.        , 0.        , 0.        , 0.        ,\n",
       "        0.        , 0.        , 0.        , 0.        , 0.        ,\n",
       "        0.        ],\n",
       "       [0.        , 0.        , 0.        , 0.        , 0.70710678,\n",
       "        0.        , 0.        , 0.        , 0.        , 0.        ,\n",
       "        0.70710678],\n",
       "       [0.        , 0.        , 0.        , 0.        , 0.        ,\n",
       "        0.        , 0.        , 0.        , 0.        , 0.        ,\n",
       "        1.        ],\n",
       "       [0.        , 0.        , 0.        , 0.        , 0.        ,\n",
       "        0.        , 0.        , 0.        , 0.        , 1.        ,\n",
       "        0.        ],\n",
       "       [0.        , 0.        , 0.        , 0.        , 0.        ,\n",
       "        0.        , 0.        , 0.        , 0.7444209 , 0.        ,\n",
       "        0.66771066],\n",
       "       [0.        , 0.        , 0.        , 0.        , 0.        ,\n",
       "        0.        , 0.        , 0.        , 1.        , 0.        ,\n",
       "        0.        ],\n",
       "       [0.        , 0.        , 0.        , 0.        , 0.        ,\n",
       "        0.        , 0.        , 1.        , 0.        , 0.        ,\n",
       "        0.        ]])"
      ]
     },
     "execution_count": 27,
     "metadata": {},
     "output_type": "execute_result"
    }
   ],
   "source": [
    "x"
   ]
  },
  {
   "cell_type": "code",
   "execution_count": 29,
   "id": "5e41519f-5d11-4798-a9ff-a1c72cd71b01",
   "metadata": {},
   "outputs": [
    {
     "data": {
      "text/plain": [
       "[0, 0, 0, 0, 0, 0, 0, 0, 1, 1, 2, 2, 2, 2, 2, 2, 2]"
      ]
     },
     "execution_count": 29,
     "metadata": {},
     "output_type": "execute_result"
    }
   ],
   "source": [
    "y=y_data\n",
    "y"
   ]
  },
  {
   "cell_type": "code",
   "execution_count": 31,
   "id": "21457278-9f7a-4fba-9af2-017c0345efff",
   "metadata": {},
   "outputs": [],
   "source": [
    "from sklearn.naive_bayes import GaussianNB\n",
    "model1=GaussianNB().fit(x,y)"
   ]
  },
  {
   "cell_type": "code",
   "execution_count": 33,
   "id": "aa228e37-804e-4d2b-9e50-2a02111442f0",
   "metadata": {},
   "outputs": [
    {
     "name": "stdout",
     "output_type": "stream",
     "text": [
      "let's chat: type 'Quit' to exit\n"
     ]
    },
    {
     "name": "stdin",
     "output_type": "stream",
     "text": [
      "you: hai \n"
     ]
    },
    {
     "name": "stdout",
     "output_type": "stream",
     "text": [
      "0\n",
      "Bro:Hello sir, welcome\n"
     ]
    },
    {
     "name": "stdin",
     "output_type": "stream",
     "text": [
      "you: how are you\n"
     ]
    },
    {
     "name": "stdout",
     "output_type": "stream",
     "text": [
      "0\n",
      "Bro:Hello sir, welcome\n"
     ]
    },
    {
     "name": "stdin",
     "output_type": "stream",
     "text": [
      "you: bye\n"
     ]
    },
    {
     "name": "stdout",
     "output_type": "stream",
     "text": [
      "2\n",
      "Bro:For further enquiry please contact customer care executives at 2255\n"
     ]
    },
    {
     "name": "stdin",
     "output_type": "stream",
     "text": [
      "you: 2255\n"
     ]
    },
    {
     "name": "stdout",
     "output_type": "stream",
     "text": [
      "0\n",
      "Bro:Hello sir, welcome\n"
     ]
    },
    {
     "name": "stdin",
     "output_type": "stream",
     "text": [
      "you: quit\n"
     ]
    },
    {
     "name": "stdout",
     "output_type": "stream",
     "text": [
      "Bro : Glad to chat with you, take care, bye\n"
     ]
    }
   ],
   "source": [
    "bot_name='Bro'\n",
    "print(\"let's chat: type 'Quit' to exit\")\n",
    "while(True):\n",
    "    temp=[]\n",
    "    a=input('you:')\n",
    "    if a.lower()=='quit':\n",
    "        print(bot_name,': Glad to chat with you, take care, bye')\n",
    "        break\n",
    "    else:\n",
    "        a=re.sub('[^a-zA-Z]',' ',a)\n",
    "        a=a.lower()\n",
    "        a=a.split()\n",
    "\n",
    "        token=[ps.stem(token) for token in a if token not in stopwords.words('english')]\n",
    "        token=' '.join(token)\n",
    "        temp.append(token)\n",
    "        test=tf.transform(temp).toarray()\n",
    "        predicted=np.max(model1.predict(test))\n",
    "        print(predicted)\n",
    "        classes=columns[predicted]\n",
    "        for events in data:\n",
    "            if classes==events:\n",
    "                print(f\"{bot_name}:{random.choice(data[events]['response'])}\")"
   ]
  },
  {
   "cell_type": "code",
   "execution_count": null,
   "id": "46b9071f-af84-4d2f-b3dd-47fc7ddaaaaf",
   "metadata": {},
   "outputs": [],
   "source": []
  }
 ],
 "metadata": {
  "kernelspec": {
   "display_name": "Python 3 (ipykernel)",
   "language": "python",
   "name": "python3"
  },
  "language_info": {
   "codemirror_mode": {
    "name": "ipython",
    "version": 3
   },
   "file_extension": ".py",
   "mimetype": "text/x-python",
   "name": "python",
   "nbconvert_exporter": "python",
   "pygments_lexer": "ipython3",
   "version": "3.12.4"
  }
 },
 "nbformat": 4,
 "nbformat_minor": 5
}
